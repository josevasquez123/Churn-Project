{
 "cells": [
  {
   "cell_type": "code",
   "execution_count": 171,
   "metadata": {},
   "outputs": [],
   "source": [
    "import pandas as pd"
   ]
  },
  {
   "attachments": {},
   "cell_type": "markdown",
   "metadata": {},
   "source": [
    "## EXPLORING DATA"
   ]
  },
  {
   "cell_type": "code",
   "execution_count": 252,
   "metadata": {},
   "outputs": [
    {
     "data": {
      "text/html": [
       "<div>\n",
       "<style scoped>\n",
       "    .dataframe tbody tr th:only-of-type {\n",
       "        vertical-align: middle;\n",
       "    }\n",
       "\n",
       "    .dataframe tbody tr th {\n",
       "        vertical-align: top;\n",
       "    }\n",
       "\n",
       "    .dataframe thead th {\n",
       "        text-align: right;\n",
       "    }\n",
       "</style>\n",
       "<table border=\"1\" class=\"dataframe\">\n",
       "  <thead>\n",
       "    <tr style=\"text-align: right;\">\n",
       "      <th></th>\n",
       "      <th>vedadc_n</th>\n",
       "      <th>vantig_n</th>\n",
       "      <th>vnline_n</th>\n",
       "      <th>vgamma_c</th>\n",
       "      <th>veaseg_c</th>\n",
       "      <th>vctcpl_n</th>\n",
       "      <th>vccdeu_n</th>\n",
       "      <th>vccdeu_n.1</th>\n",
       "      <th>ttkbco_n</th>\n",
       "      <th>vtarge_c</th>\n",
       "    </tr>\n",
       "  </thead>\n",
       "  <tbody>\n",
       "    <tr>\n",
       "      <th>0</th>\n",
       "      <td>60.0</td>\n",
       "      <td>NaN</td>\n",
       "      <td>1</td>\n",
       "      <td>PREMIUM PLUS</td>\n",
       "      <td>n</td>\n",
       "      <td>45</td>\n",
       "      <td>1</td>\n",
       "      <td>1</td>\n",
       "      <td>2439779</td>\n",
       "      <td>0</td>\n",
       "    </tr>\n",
       "    <tr>\n",
       "      <th>1</th>\n",
       "      <td>66.0</td>\n",
       "      <td>NaN</td>\n",
       "      <td>1</td>\n",
       "      <td>ALTA</td>\n",
       "      <td>n</td>\n",
       "      <td>71</td>\n",
       "      <td>8</td>\n",
       "      <td>8</td>\n",
       "      <td>0</td>\n",
       "      <td>0</td>\n",
       "    </tr>\n",
       "    <tr>\n",
       "      <th>2</th>\n",
       "      <td>NaN</td>\n",
       "      <td>141.0</td>\n",
       "      <td>1</td>\n",
       "      <td>PREMIUM</td>\n",
       "      <td>n</td>\n",
       "      <td>73</td>\n",
       "      <td>25</td>\n",
       "      <td>25</td>\n",
       "      <td>0</td>\n",
       "      <td>0</td>\n",
       "    </tr>\n",
       "    <tr>\n",
       "      <th>3</th>\n",
       "      <td>116.0</td>\n",
       "      <td>NaN</td>\n",
       "      <td>2</td>\n",
       "      <td>NaN</td>\n",
       "      <td>n</td>\n",
       "      <td>7</td>\n",
       "      <td>0</td>\n",
       "      <td>0</td>\n",
       "      <td>0</td>\n",
       "      <td>0</td>\n",
       "    </tr>\n",
       "    <tr>\n",
       "      <th>4</th>\n",
       "      <td>50.0</td>\n",
       "      <td>NaN</td>\n",
       "      <td>3</td>\n",
       "      <td>ALTA</td>\n",
       "      <td>n</td>\n",
       "      <td>42</td>\n",
       "      <td>7</td>\n",
       "      <td>7</td>\n",
       "      <td>1969990</td>\n",
       "      <td>0</td>\n",
       "    </tr>\n",
       "    <tr>\n",
       "      <th>5</th>\n",
       "      <td>54.0</td>\n",
       "      <td>NaN</td>\n",
       "      <td>2</td>\n",
       "      <td>PREMIUM PLUS</td>\n",
       "      <td>n</td>\n",
       "      <td>27</td>\n",
       "      <td>0</td>\n",
       "      <td>0</td>\n",
       "      <td>0</td>\n",
       "      <td>0</td>\n",
       "    </tr>\n",
       "    <tr>\n",
       "      <th>6</th>\n",
       "      <td>62.0</td>\n",
       "      <td>NaN</td>\n",
       "      <td>4</td>\n",
       "      <td>NaN</td>\n",
       "      <td>n</td>\n",
       "      <td>40</td>\n",
       "      <td>8</td>\n",
       "      <td>8</td>\n",
       "      <td>0</td>\n",
       "      <td>0</td>\n",
       "    </tr>\n",
       "    <tr>\n",
       "      <th>7</th>\n",
       "      <td>50.0</td>\n",
       "      <td>66.0</td>\n",
       "      <td>2</td>\n",
       "      <td>PRIMIUM PLUS</td>\n",
       "      <td>s</td>\n",
       "      <td>38</td>\n",
       "      <td>11</td>\n",
       "      <td>11</td>\n",
       "      <td>1653464</td>\n",
       "      <td>0</td>\n",
       "    </tr>\n",
       "    <tr>\n",
       "      <th>8</th>\n",
       "      <td>60.0</td>\n",
       "      <td>NaN</td>\n",
       "      <td>2</td>\n",
       "      <td>PREMIUM</td>\n",
       "      <td>n</td>\n",
       "      <td>24</td>\n",
       "      <td>2</td>\n",
       "      <td>2</td>\n",
       "      <td>0</td>\n",
       "      <td>0</td>\n",
       "    </tr>\n",
       "    <tr>\n",
       "      <th>9</th>\n",
       "      <td>60.0</td>\n",
       "      <td>NaN</td>\n",
       "      <td>2</td>\n",
       "      <td>PREMIUM</td>\n",
       "      <td>n</td>\n",
       "      <td>24</td>\n",
       "      <td>2</td>\n",
       "      <td>2</td>\n",
       "      <td>0</td>\n",
       "      <td>0</td>\n",
       "    </tr>\n",
       "  </tbody>\n",
       "</table>\n",
       "</div>"
      ],
      "text/plain": [
       "   vedadc_n  vantig_n  vnline_n      vgamma_c veaseg_c  vctcpl_n  vccdeu_n  \\\n",
       "0      60.0       NaN         1  PREMIUM PLUS        n        45         1   \n",
       "1      66.0       NaN         1          ALTA        n        71         8   \n",
       "2       NaN     141.0         1       PREMIUM        n        73        25   \n",
       "3     116.0       NaN         2           NaN        n         7         0   \n",
       "4      50.0       NaN         3          ALTA        n        42         7   \n",
       "5      54.0       NaN         2  PREMIUM PLUS        n        27         0   \n",
       "6      62.0       NaN         4           NaN        n        40         8   \n",
       "7      50.0      66.0         2  PRIMIUM PLUS        s        38        11   \n",
       "8      60.0       NaN         2       PREMIUM        n        24         2   \n",
       "9      60.0       NaN         2       PREMIUM        n        24         2   \n",
       "\n",
       "   vccdeu_n.1  ttkbco_n  vtarge_c  \n",
       "0           1   2439779         0  \n",
       "1           8         0         0  \n",
       "2          25         0         0  \n",
       "3           0         0         0  \n",
       "4           7   1969990         0  \n",
       "5           0         0         0  \n",
       "6           8         0         0  \n",
       "7          11   1653464         0  \n",
       "8           2         0         0  \n",
       "9           2         0         0  "
      ]
     },
     "execution_count": 252,
     "metadata": {},
     "output_type": "execute_result"
    }
   ],
   "source": [
    "df = pd.read_csv(\"../data/guatedata.csv\")\n",
    "df.head(10)"
   ]
  },
  {
   "cell_type": "code",
   "execution_count": 173,
   "metadata": {},
   "outputs": [
    {
     "name": "stdout",
     "output_type": "stream",
     "text": [
      "<class 'pandas.core.frame.DataFrame'>\n",
      "RangeIndex: 926 entries, 0 to 925\n",
      "Data columns (total 10 columns):\n",
      " #   Column      Non-Null Count  Dtype  \n",
      "---  ------      --------------  -----  \n",
      " 0   vedadc_n    778 non-null    float64\n",
      " 1   vantig_n    496 non-null    float64\n",
      " 2   vnline_n    926 non-null    int64  \n",
      " 3   vgamma_c    734 non-null    object \n",
      " 4   veaseg_c    926 non-null    object \n",
      " 5   vctcpl_n    926 non-null    int64  \n",
      " 6   vccdeu_n    926 non-null    int64  \n",
      " 7   vccdeu_n.1  926 non-null    int64  \n",
      " 8   ttkbco_n    926 non-null    int64  \n",
      " 9   vtarge_c    926 non-null    int64  \n",
      "dtypes: float64(2), int64(6), object(2)\n",
      "memory usage: 72.5+ KB\n"
     ]
    }
   ],
   "source": [
    "df.info()       #TRANSFORMAR DE FLOAT A INT LAS VARIABLES vedadc_n y vantig_n, PUESTO QUE SE REFIEREN A LA EDAD Y MESES DE ANTIGUEDAD"
   ]
  },
  {
   "cell_type": "code",
   "execution_count": 174,
   "metadata": {},
   "outputs": [
    {
     "data": {
      "text/html": [
       "<div>\n",
       "<style scoped>\n",
       "    .dataframe tbody tr th:only-of-type {\n",
       "        vertical-align: middle;\n",
       "    }\n",
       "\n",
       "    .dataframe tbody tr th {\n",
       "        vertical-align: top;\n",
       "    }\n",
       "\n",
       "    .dataframe thead th {\n",
       "        text-align: right;\n",
       "    }\n",
       "</style>\n",
       "<table border=\"1\" class=\"dataframe\">\n",
       "  <thead>\n",
       "    <tr style=\"text-align: right;\">\n",
       "      <th></th>\n",
       "      <th>vedadc_n</th>\n",
       "      <th>vantig_n</th>\n",
       "      <th>vnline_n</th>\n",
       "      <th>vctcpl_n</th>\n",
       "      <th>vccdeu_n</th>\n",
       "      <th>vccdeu_n.1</th>\n",
       "      <th>ttkbco_n</th>\n",
       "      <th>vtarge_c</th>\n",
       "    </tr>\n",
       "  </thead>\n",
       "  <tbody>\n",
       "    <tr>\n",
       "      <th>count</th>\n",
       "      <td>778.000000</td>\n",
       "      <td>496.000000</td>\n",
       "      <td>926.000000</td>\n",
       "      <td>926.000000</td>\n",
       "      <td>926.000000</td>\n",
       "      <td>926.000000</td>\n",
       "      <td>9.260000e+02</td>\n",
       "      <td>926.000000</td>\n",
       "    </tr>\n",
       "    <tr>\n",
       "      <th>mean</th>\n",
       "      <td>53.474293</td>\n",
       "      <td>101.177419</td>\n",
       "      <td>1.958963</td>\n",
       "      <td>26.120950</td>\n",
       "      <td>6.304536</td>\n",
       "      <td>6.304536</td>\n",
       "      <td>1.250424e+06</td>\n",
       "      <td>0.278618</td>\n",
       "    </tr>\n",
       "    <tr>\n",
       "      <th>std</th>\n",
       "      <td>24.626632</td>\n",
       "      <td>44.257155</td>\n",
       "      <td>1.384251</td>\n",
       "      <td>25.315148</td>\n",
       "      <td>9.335670</td>\n",
       "      <td>9.335670</td>\n",
       "      <td>2.635760e+06</td>\n",
       "      <td>0.448561</td>\n",
       "    </tr>\n",
       "    <tr>\n",
       "      <th>min</th>\n",
       "      <td>0.000000</td>\n",
       "      <td>1.000000</td>\n",
       "      <td>1.000000</td>\n",
       "      <td>0.000000</td>\n",
       "      <td>0.000000</td>\n",
       "      <td>0.000000</td>\n",
       "      <td>0.000000e+00</td>\n",
       "      <td>0.000000</td>\n",
       "    </tr>\n",
       "    <tr>\n",
       "      <th>25%</th>\n",
       "      <td>40.000000</td>\n",
       "      <td>74.000000</td>\n",
       "      <td>1.000000</td>\n",
       "      <td>9.000000</td>\n",
       "      <td>0.000000</td>\n",
       "      <td>0.000000</td>\n",
       "      <td>0.000000e+00</td>\n",
       "      <td>0.000000</td>\n",
       "    </tr>\n",
       "    <tr>\n",
       "      <th>50%</th>\n",
       "      <td>53.000000</td>\n",
       "      <td>110.000000</td>\n",
       "      <td>1.000000</td>\n",
       "      <td>19.000000</td>\n",
       "      <td>2.000000</td>\n",
       "      <td>2.000000</td>\n",
       "      <td>0.000000e+00</td>\n",
       "      <td>0.000000</td>\n",
       "    </tr>\n",
       "    <tr>\n",
       "      <th>75%</th>\n",
       "      <td>63.000000</td>\n",
       "      <td>134.000000</td>\n",
       "      <td>2.000000</td>\n",
       "      <td>35.000000</td>\n",
       "      <td>8.000000</td>\n",
       "      <td>8.000000</td>\n",
       "      <td>1.107301e+06</td>\n",
       "      <td>1.000000</td>\n",
       "    </tr>\n",
       "    <tr>\n",
       "      <th>max</th>\n",
       "      <td>117.000000</td>\n",
       "      <td>174.000000</td>\n",
       "      <td>7.000000</td>\n",
       "      <td>232.000000</td>\n",
       "      <td>54.000000</td>\n",
       "      <td>54.000000</td>\n",
       "      <td>1.834643e+07</td>\n",
       "      <td>1.000000</td>\n",
       "    </tr>\n",
       "  </tbody>\n",
       "</table>\n",
       "</div>"
      ],
      "text/plain": [
       "         vedadc_n    vantig_n    vnline_n    vctcpl_n    vccdeu_n  vccdeu_n.1  \\\n",
       "count  778.000000  496.000000  926.000000  926.000000  926.000000  926.000000   \n",
       "mean    53.474293  101.177419    1.958963   26.120950    6.304536    6.304536   \n",
       "std     24.626632   44.257155    1.384251   25.315148    9.335670    9.335670   \n",
       "min      0.000000    1.000000    1.000000    0.000000    0.000000    0.000000   \n",
       "25%     40.000000   74.000000    1.000000    9.000000    0.000000    0.000000   \n",
       "50%     53.000000  110.000000    1.000000   19.000000    2.000000    2.000000   \n",
       "75%     63.000000  134.000000    2.000000   35.000000    8.000000    8.000000   \n",
       "max    117.000000  174.000000    7.000000  232.000000   54.000000   54.000000   \n",
       "\n",
       "           ttkbco_n    vtarge_c  \n",
       "count  9.260000e+02  926.000000  \n",
       "mean   1.250424e+06    0.278618  \n",
       "std    2.635760e+06    0.448561  \n",
       "min    0.000000e+00    0.000000  \n",
       "25%    0.000000e+00    0.000000  \n",
       "50%    0.000000e+00    0.000000  \n",
       "75%    1.107301e+06    1.000000  \n",
       "max    1.834643e+07    1.000000  "
      ]
     },
     "execution_count": 174,
     "metadata": {},
     "output_type": "execute_result"
    }
   ],
   "source": [
    "df.describe()"
   ]
  },
  {
   "cell_type": "code",
   "execution_count": 175,
   "metadata": {},
   "outputs": [
    {
     "name": "stdout",
     "output_type": "stream",
     "text": [
      "['PREMIUM PLUS' 'ALTA' 'PREMIUM' nan 'PRIMIUM PLUS' 'BAJA' 'MEDIA'\n",
      " 'PREMIUN PLUS' 'ALTAa' 'MEDIIA']\n",
      "['n' 's' 'no']\n"
     ]
    }
   ],
   "source": [
    "print(df['vgamma_c'].unique())\n",
    "print(df['veaseg_c'].unique())              #SE TENDRA QUE TRANSFORMAR EN UN NUEVO FORMATO"
   ]
  },
  {
   "cell_type": "code",
   "execution_count": 176,
   "metadata": {},
   "outputs": [
    {
     "data": {
      "text/plain": [
       "vedadc_n      148\n",
       "vantig_n      430\n",
       "vnline_n        0\n",
       "vgamma_c      192\n",
       "veaseg_c        0\n",
       "vctcpl_n        0\n",
       "vccdeu_n        0\n",
       "vccdeu_n.1      0\n",
       "ttkbco_n        0\n",
       "vtarge_c        0\n",
       "dtype: int64"
      ]
     },
     "execution_count": 176,
     "metadata": {},
     "output_type": "execute_result"
    }
   ],
   "source": [
    "df.isna().sum()                 #BASTANTES NULL VALUES EN DIFERENTES CARACTERSTICAS"
   ]
  },
  {
   "cell_type": "code",
   "execution_count": 177,
   "metadata": {},
   "outputs": [
    {
     "data": {
      "text/plain": [
       "array([ 60.,  66.,  nan, 116.,  50.,  54.,  62.,  80.,  63.,  39.,  59.,\n",
       "        41.,  64.,  91.,  33.,  55.,  34.,  74.,  48.,  36.,  67.,  38.,\n",
       "        71.,  42.,  45.,  53.,  12.,  13.,  51.,  22.,  69.,  65.,  32.,\n",
       "       117.,  43.,  56.,  72.,  49.,  46.,  11.,  57.,  47.,  52.,  44.,\n",
       "        14.,  30.,  40.,  61.,  17.,  70.,  37.,  35.,  29.,  19.,  10.,\n",
       "        21.,   5.,  58.,  77.,  83.,  28.,  18.,  76.,   8.,  75.,  82.,\n",
       "        79.,  86.,   9.,  25.,  68.,  78.,  73.,  92.,  90.,  85.,   7.,\n",
       "        26.,  15.,  81.,   0.,  16.,  24.,  31.,  20.,  23.,  27.,   3.])"
      ]
     },
     "execution_count": 177,
     "metadata": {},
     "output_type": "execute_result"
    }
   ],
   "source": [
    "df['vedadc_n'].unique()             #EXISTE PERSONAS CON 0 AÑOS Y MENORES DE EDAD, ESO SE TENDRA QUE FILTRAR"
   ]
  },
  {
   "cell_type": "code",
   "execution_count": 178,
   "metadata": {},
   "outputs": [
    {
     "data": {
      "text/plain": [
       "117.0    33\n",
       "116.0    24\n",
       "Name: vedadc_n, dtype: int64"
      ]
     },
     "execution_count": 178,
     "metadata": {},
     "output_type": "execute_result"
    }
   ],
   "source": [
    "df[df['vedadc_n']>100]['vedadc_n'].value_counts()               #VALORES ANOMALOS EN LA EDAD, ESTOS SON CONSIDERADOS OUTLIERS Y SE CAMBIARAN"
   ]
  },
  {
   "cell_type": "code",
   "execution_count": 179,
   "metadata": {},
   "outputs": [
    {
     "name": "stdout",
     "output_type": "stream",
     "text": [
      "Cantidad: 57\n",
      "\n",
      "17.0    14\n",
      "12.0     6\n",
      "9.0      6\n",
      "13.0     5\n",
      "11.0     5\n",
      "10.0     5\n",
      "0.0      5\n",
      "14.0     4\n",
      "15.0     2\n",
      "5.0      1\n",
      "8.0      1\n",
      "7.0      1\n",
      "16.0     1\n",
      "3.0      1\n",
      "Name: vedadc_n, dtype: int64\n"
     ]
    }
   ],
   "source": [
    "print(f\"Cantidad: {len(df[df['vedadc_n']<18])}\\n\")\n",
    "print(df[df['vedadc_n']<18]['vedadc_n'].value_counts())                #SE DEBE ELIMINAR ESTOS VALORES (APROX 6% DE LA DATA)"
   ]
  },
  {
   "cell_type": "code",
   "execution_count": 180,
   "metadata": {},
   "outputs": [
    {
     "data": {
      "text/plain": [
       "array([ nan, 141.,  66.,  80.,  29., 122., 153.,  73., 135., 148., 134.,\n",
       "       160., 109.,  89.,  79.,  58., 150.,  59., 145., 167., 168., 131.,\n",
       "       137., 149.,   6.,  88., 143., 133., 144.,  71.,  82.,  90., 108.,\n",
       "       142.,  36.,  84.,  75.,  78.,  86., 138., 129.,   5., 164., 147.,\n",
       "       151., 110.,  92.,  76.,  96.,  47., 166., 155., 132., 111., 152.,\n",
       "        74., 171., 146., 114.,  99.,  98.,   1.,  12., 156., 121.,  87.,\n",
       "       162.,  70., 105., 163., 158., 107., 157.,  91., 140.,  43.,  85.,\n",
       "        69., 113., 120., 115., 130.,  94.,  83., 139., 119., 172.,   9.,\n",
       "       154.,  15.,   7.,  21.,  81., 128.,  16.,  51., 116.,  23., 126.,\n",
       "        24., 159.,  27.,  60., 124.,   2.,  19.,  39.,   4.,  56.,  62.,\n",
       "       136.,  28.,  26., 104.,  33.,  93.,  13.,  53.,  64.,  45.,  97.,\n",
       "        50.,  18.,  38.,  65.,  63., 117., 100.,  77.,  11., 174.,  54.,\n",
       "        67., 125.,  61.,  30., 123., 102.,  46.,  34.,   8.,  10.,  40.,\n",
       "       127.,  72.,  41.,  17.,  57., 112.,  68.,  14.,  20.,  49.])"
      ]
     },
     "execution_count": 180,
     "metadata": {},
     "output_type": "execute_result"
    }
   ],
   "source": [
    "df['vantig_n'].unique()                                         #EL VALOR NAN COMO UNICO TIPO DE ERROR"
   ]
  },
  {
   "cell_type": "code",
   "execution_count": 181,
   "metadata": {},
   "outputs": [
    {
     "data": {
      "text/plain": [
       "array(['PREMIUM PLUS', 'ALTA', 'PREMIUM', nan, 'PRIMIUM PLUS', 'BAJA',\n",
       "       'MEDIA', 'PREMIUN PLUS', 'ALTAa', 'MEDIIA'], dtype=object)"
      ]
     },
     "execution_count": 181,
     "metadata": {},
     "output_type": "execute_result"
    }
   ],
   "source": [
    "df['vgamma_c'].unique()                             #VARIAS PALABRAS QUE SIGNIFICAN LO MISMO, SE TENDRA QUE ARREGLAR"
   ]
  },
  {
   "cell_type": "code",
   "execution_count": 182,
   "metadata": {},
   "outputs": [
    {
     "data": {
      "text/plain": [
       "24"
      ]
     },
     "execution_count": 182,
     "metadata": {},
     "output_type": "execute_result"
    }
   ],
   "source": [
    "df.duplicated().sum()                       #SE ELIMINARAN LOS DUPLICADOS"
   ]
  },
  {
   "cell_type": "code",
   "execution_count": 183,
   "metadata": {},
   "outputs": [
    {
     "data": {
      "text/html": [
       "<div>\n",
       "<style scoped>\n",
       "    .dataframe tbody tr th:only-of-type {\n",
       "        vertical-align: middle;\n",
       "    }\n",
       "\n",
       "    .dataframe tbody tr th {\n",
       "        vertical-align: top;\n",
       "    }\n",
       "\n",
       "    .dataframe thead th {\n",
       "        text-align: right;\n",
       "    }\n",
       "</style>\n",
       "<table border=\"1\" class=\"dataframe\">\n",
       "  <thead>\n",
       "    <tr style=\"text-align: right;\">\n",
       "      <th></th>\n",
       "      <th>vedadc_n</th>\n",
       "      <th>vantig_n</th>\n",
       "      <th>vnline_n</th>\n",
       "      <th>vgamma_c</th>\n",
       "      <th>veaseg_c</th>\n",
       "      <th>vctcpl_n</th>\n",
       "      <th>vccdeu_n</th>\n",
       "      <th>vccdeu_n.1</th>\n",
       "      <th>ttkbco_n</th>\n",
       "      <th>vtarge_c</th>\n",
       "    </tr>\n",
       "  </thead>\n",
       "  <tbody>\n",
       "    <tr>\n",
       "      <th>24</th>\n",
       "      <td>NaN</td>\n",
       "      <td>NaN</td>\n",
       "      <td>6</td>\n",
       "      <td>NaN</td>\n",
       "      <td>n</td>\n",
       "      <td>18</td>\n",
       "      <td>2</td>\n",
       "      <td>2</td>\n",
       "      <td>0</td>\n",
       "      <td>0</td>\n",
       "    </tr>\n",
       "    <tr>\n",
       "      <th>256</th>\n",
       "      <td>NaN</td>\n",
       "      <td>NaN</td>\n",
       "      <td>1</td>\n",
       "      <td>NaN</td>\n",
       "      <td>n</td>\n",
       "      <td>12</td>\n",
       "      <td>2</td>\n",
       "      <td>2</td>\n",
       "      <td>841417</td>\n",
       "      <td>0</td>\n",
       "    </tr>\n",
       "    <tr>\n",
       "      <th>269</th>\n",
       "      <td>NaN</td>\n",
       "      <td>NaN</td>\n",
       "      <td>1</td>\n",
       "      <td>NaN</td>\n",
       "      <td>n</td>\n",
       "      <td>25</td>\n",
       "      <td>5</td>\n",
       "      <td>5</td>\n",
       "      <td>3793228</td>\n",
       "      <td>0</td>\n",
       "    </tr>\n",
       "    <tr>\n",
       "      <th>290</th>\n",
       "      <td>NaN</td>\n",
       "      <td>NaN</td>\n",
       "      <td>4</td>\n",
       "      <td>NaN</td>\n",
       "      <td>n</td>\n",
       "      <td>8</td>\n",
       "      <td>0</td>\n",
       "      <td>0</td>\n",
       "      <td>186228</td>\n",
       "      <td>0</td>\n",
       "    </tr>\n",
       "    <tr>\n",
       "      <th>300</th>\n",
       "      <td>NaN</td>\n",
       "      <td>NaN</td>\n",
       "      <td>2</td>\n",
       "      <td>NaN</td>\n",
       "      <td>n</td>\n",
       "      <td>37</td>\n",
       "      <td>10</td>\n",
       "      <td>10</td>\n",
       "      <td>1650043</td>\n",
       "      <td>0</td>\n",
       "    </tr>\n",
       "    <tr>\n",
       "      <th>320</th>\n",
       "      <td>NaN</td>\n",
       "      <td>NaN</td>\n",
       "      <td>1</td>\n",
       "      <td>NaN</td>\n",
       "      <td>n</td>\n",
       "      <td>15</td>\n",
       "      <td>1</td>\n",
       "      <td>1</td>\n",
       "      <td>0</td>\n",
       "      <td>0</td>\n",
       "    </tr>\n",
       "    <tr>\n",
       "      <th>324</th>\n",
       "      <td>NaN</td>\n",
       "      <td>NaN</td>\n",
       "      <td>3</td>\n",
       "      <td>NaN</td>\n",
       "      <td>n</td>\n",
       "      <td>45</td>\n",
       "      <td>7</td>\n",
       "      <td>7</td>\n",
       "      <td>0</td>\n",
       "      <td>0</td>\n",
       "    </tr>\n",
       "    <tr>\n",
       "      <th>335</th>\n",
       "      <td>NaN</td>\n",
       "      <td>NaN</td>\n",
       "      <td>1</td>\n",
       "      <td>NaN</td>\n",
       "      <td>n</td>\n",
       "      <td>0</td>\n",
       "      <td>0</td>\n",
       "      <td>0</td>\n",
       "      <td>0</td>\n",
       "      <td>0</td>\n",
       "    </tr>\n",
       "    <tr>\n",
       "      <th>364</th>\n",
       "      <td>NaN</td>\n",
       "      <td>NaN</td>\n",
       "      <td>1</td>\n",
       "      <td>NaN</td>\n",
       "      <td>n</td>\n",
       "      <td>68</td>\n",
       "      <td>7</td>\n",
       "      <td>7</td>\n",
       "      <td>0</td>\n",
       "      <td>0</td>\n",
       "    </tr>\n",
       "    <tr>\n",
       "      <th>373</th>\n",
       "      <td>NaN</td>\n",
       "      <td>NaN</td>\n",
       "      <td>1</td>\n",
       "      <td>NaN</td>\n",
       "      <td>n</td>\n",
       "      <td>9</td>\n",
       "      <td>1</td>\n",
       "      <td>1</td>\n",
       "      <td>0</td>\n",
       "      <td>0</td>\n",
       "    </tr>\n",
       "    <tr>\n",
       "      <th>393</th>\n",
       "      <td>NaN</td>\n",
       "      <td>NaN</td>\n",
       "      <td>1</td>\n",
       "      <td>NaN</td>\n",
       "      <td>n</td>\n",
       "      <td>4</td>\n",
       "      <td>1</td>\n",
       "      <td>1</td>\n",
       "      <td>0</td>\n",
       "      <td>0</td>\n",
       "    </tr>\n",
       "    <tr>\n",
       "      <th>402</th>\n",
       "      <td>NaN</td>\n",
       "      <td>NaN</td>\n",
       "      <td>1</td>\n",
       "      <td>NaN</td>\n",
       "      <td>n</td>\n",
       "      <td>0</td>\n",
       "      <td>0</td>\n",
       "      <td>0</td>\n",
       "      <td>0</td>\n",
       "      <td>0</td>\n",
       "    </tr>\n",
       "    <tr>\n",
       "      <th>415</th>\n",
       "      <td>NaN</td>\n",
       "      <td>NaN</td>\n",
       "      <td>1</td>\n",
       "      <td>NaN</td>\n",
       "      <td>n</td>\n",
       "      <td>8</td>\n",
       "      <td>1</td>\n",
       "      <td>1</td>\n",
       "      <td>0</td>\n",
       "      <td>0</td>\n",
       "    </tr>\n",
       "    <tr>\n",
       "      <th>423</th>\n",
       "      <td>NaN</td>\n",
       "      <td>NaN</td>\n",
       "      <td>1</td>\n",
       "      <td>NaN</td>\n",
       "      <td>n</td>\n",
       "      <td>7</td>\n",
       "      <td>0</td>\n",
       "      <td>0</td>\n",
       "      <td>0</td>\n",
       "      <td>0</td>\n",
       "    </tr>\n",
       "    <tr>\n",
       "      <th>567</th>\n",
       "      <td>NaN</td>\n",
       "      <td>NaN</td>\n",
       "      <td>1</td>\n",
       "      <td>NaN</td>\n",
       "      <td>n</td>\n",
       "      <td>37</td>\n",
       "      <td>2</td>\n",
       "      <td>2</td>\n",
       "      <td>0</td>\n",
       "      <td>0</td>\n",
       "    </tr>\n",
       "    <tr>\n",
       "      <th>577</th>\n",
       "      <td>NaN</td>\n",
       "      <td>NaN</td>\n",
       "      <td>1</td>\n",
       "      <td>NaN</td>\n",
       "      <td>n</td>\n",
       "      <td>0</td>\n",
       "      <td>0</td>\n",
       "      <td>0</td>\n",
       "      <td>0</td>\n",
       "      <td>0</td>\n",
       "    </tr>\n",
       "    <tr>\n",
       "      <th>582</th>\n",
       "      <td>NaN</td>\n",
       "      <td>NaN</td>\n",
       "      <td>1</td>\n",
       "      <td>NaN</td>\n",
       "      <td>n</td>\n",
       "      <td>0</td>\n",
       "      <td>0</td>\n",
       "      <td>0</td>\n",
       "      <td>0</td>\n",
       "      <td>0</td>\n",
       "    </tr>\n",
       "    <tr>\n",
       "      <th>583</th>\n",
       "      <td>NaN</td>\n",
       "      <td>NaN</td>\n",
       "      <td>1</td>\n",
       "      <td>NaN</td>\n",
       "      <td>n</td>\n",
       "      <td>0</td>\n",
       "      <td>0</td>\n",
       "      <td>0</td>\n",
       "      <td>0</td>\n",
       "      <td>0</td>\n",
       "    </tr>\n",
       "    <tr>\n",
       "      <th>586</th>\n",
       "      <td>NaN</td>\n",
       "      <td>NaN</td>\n",
       "      <td>1</td>\n",
       "      <td>NaN</td>\n",
       "      <td>n</td>\n",
       "      <td>2</td>\n",
       "      <td>0</td>\n",
       "      <td>0</td>\n",
       "      <td>0</td>\n",
       "      <td>0</td>\n",
       "    </tr>\n",
       "    <tr>\n",
       "      <th>592</th>\n",
       "      <td>NaN</td>\n",
       "      <td>NaN</td>\n",
       "      <td>1</td>\n",
       "      <td>NaN</td>\n",
       "      <td>n</td>\n",
       "      <td>0</td>\n",
       "      <td>0</td>\n",
       "      <td>0</td>\n",
       "      <td>0</td>\n",
       "      <td>0</td>\n",
       "    </tr>\n",
       "    <tr>\n",
       "      <th>598</th>\n",
       "      <td>NaN</td>\n",
       "      <td>NaN</td>\n",
       "      <td>1</td>\n",
       "      <td>NaN</td>\n",
       "      <td>n</td>\n",
       "      <td>0</td>\n",
       "      <td>0</td>\n",
       "      <td>0</td>\n",
       "      <td>0</td>\n",
       "      <td>0</td>\n",
       "    </tr>\n",
       "    <tr>\n",
       "      <th>607</th>\n",
       "      <td>NaN</td>\n",
       "      <td>NaN</td>\n",
       "      <td>1</td>\n",
       "      <td>NaN</td>\n",
       "      <td>n</td>\n",
       "      <td>20</td>\n",
       "      <td>7</td>\n",
       "      <td>7</td>\n",
       "      <td>0</td>\n",
       "      <td>0</td>\n",
       "    </tr>\n",
       "    <tr>\n",
       "      <th>609</th>\n",
       "      <td>NaN</td>\n",
       "      <td>NaN</td>\n",
       "      <td>1</td>\n",
       "      <td>NaN</td>\n",
       "      <td>n</td>\n",
       "      <td>0</td>\n",
       "      <td>0</td>\n",
       "      <td>0</td>\n",
       "      <td>0</td>\n",
       "      <td>0</td>\n",
       "    </tr>\n",
       "    <tr>\n",
       "      <th>623</th>\n",
       "      <td>NaN</td>\n",
       "      <td>NaN</td>\n",
       "      <td>1</td>\n",
       "      <td>NaN</td>\n",
       "      <td>n</td>\n",
       "      <td>0</td>\n",
       "      <td>0</td>\n",
       "      <td>0</td>\n",
       "      <td>0</td>\n",
       "      <td>0</td>\n",
       "    </tr>\n",
       "    <tr>\n",
       "      <th>636</th>\n",
       "      <td>NaN</td>\n",
       "      <td>NaN</td>\n",
       "      <td>1</td>\n",
       "      <td>NaN</td>\n",
       "      <td>n</td>\n",
       "      <td>0</td>\n",
       "      <td>0</td>\n",
       "      <td>0</td>\n",
       "      <td>0</td>\n",
       "      <td>0</td>\n",
       "    </tr>\n",
       "    <tr>\n",
       "      <th>651</th>\n",
       "      <td>NaN</td>\n",
       "      <td>NaN</td>\n",
       "      <td>1</td>\n",
       "      <td>NaN</td>\n",
       "      <td>n</td>\n",
       "      <td>0</td>\n",
       "      <td>0</td>\n",
       "      <td>0</td>\n",
       "      <td>0</td>\n",
       "      <td>0</td>\n",
       "    </tr>\n",
       "    <tr>\n",
       "      <th>662</th>\n",
       "      <td>NaN</td>\n",
       "      <td>NaN</td>\n",
       "      <td>1</td>\n",
       "      <td>NaN</td>\n",
       "      <td>n</td>\n",
       "      <td>0</td>\n",
       "      <td>0</td>\n",
       "      <td>0</td>\n",
       "      <td>0</td>\n",
       "      <td>0</td>\n",
       "    </tr>\n",
       "    <tr>\n",
       "      <th>663</th>\n",
       "      <td>NaN</td>\n",
       "      <td>NaN</td>\n",
       "      <td>1</td>\n",
       "      <td>NaN</td>\n",
       "      <td>n</td>\n",
       "      <td>0</td>\n",
       "      <td>0</td>\n",
       "      <td>0</td>\n",
       "      <td>0</td>\n",
       "      <td>0</td>\n",
       "    </tr>\n",
       "    <tr>\n",
       "      <th>840</th>\n",
       "      <td>NaN</td>\n",
       "      <td>NaN</td>\n",
       "      <td>1</td>\n",
       "      <td>NaN</td>\n",
       "      <td>n</td>\n",
       "      <td>3</td>\n",
       "      <td>1</td>\n",
       "      <td>1</td>\n",
       "      <td>0</td>\n",
       "      <td>1</td>\n",
       "    </tr>\n",
       "  </tbody>\n",
       "</table>\n",
       "</div>"
      ],
      "text/plain": [
       "     vedadc_n  vantig_n  vnline_n vgamma_c veaseg_c  vctcpl_n  vccdeu_n  \\\n",
       "24        NaN       NaN         6      NaN        n        18         2   \n",
       "256       NaN       NaN         1      NaN        n        12         2   \n",
       "269       NaN       NaN         1      NaN        n        25         5   \n",
       "290       NaN       NaN         4      NaN        n         8         0   \n",
       "300       NaN       NaN         2      NaN        n        37        10   \n",
       "320       NaN       NaN         1      NaN        n        15         1   \n",
       "324       NaN       NaN         3      NaN        n        45         7   \n",
       "335       NaN       NaN         1      NaN        n         0         0   \n",
       "364       NaN       NaN         1      NaN        n        68         7   \n",
       "373       NaN       NaN         1      NaN        n         9         1   \n",
       "393       NaN       NaN         1      NaN        n         4         1   \n",
       "402       NaN       NaN         1      NaN        n         0         0   \n",
       "415       NaN       NaN         1      NaN        n         8         1   \n",
       "423       NaN       NaN         1      NaN        n         7         0   \n",
       "567       NaN       NaN         1      NaN        n        37         2   \n",
       "577       NaN       NaN         1      NaN        n         0         0   \n",
       "582       NaN       NaN         1      NaN        n         0         0   \n",
       "583       NaN       NaN         1      NaN        n         0         0   \n",
       "586       NaN       NaN         1      NaN        n         2         0   \n",
       "592       NaN       NaN         1      NaN        n         0         0   \n",
       "598       NaN       NaN         1      NaN        n         0         0   \n",
       "607       NaN       NaN         1      NaN        n        20         7   \n",
       "609       NaN       NaN         1      NaN        n         0         0   \n",
       "623       NaN       NaN         1      NaN        n         0         0   \n",
       "636       NaN       NaN         1      NaN        n         0         0   \n",
       "651       NaN       NaN         1      NaN        n         0         0   \n",
       "662       NaN       NaN         1      NaN        n         0         0   \n",
       "663       NaN       NaN         1      NaN        n         0         0   \n",
       "840       NaN       NaN         1      NaN        n         3         1   \n",
       "\n",
       "     vccdeu_n.1  ttkbco_n  vtarge_c  \n",
       "24            2         0         0  \n",
       "256           2    841417         0  \n",
       "269           5   3793228         0  \n",
       "290           0    186228         0  \n",
       "300          10   1650043         0  \n",
       "320           1         0         0  \n",
       "324           7         0         0  \n",
       "335           0         0         0  \n",
       "364           7         0         0  \n",
       "373           1         0         0  \n",
       "393           1         0         0  \n",
       "402           0         0         0  \n",
       "415           1         0         0  \n",
       "423           0         0         0  \n",
       "567           2         0         0  \n",
       "577           0         0         0  \n",
       "582           0         0         0  \n",
       "583           0         0         0  \n",
       "586           0         0         0  \n",
       "592           0         0         0  \n",
       "598           0         0         0  \n",
       "607           7         0         0  \n",
       "609           0         0         0  \n",
       "623           0         0         0  \n",
       "636           0         0         0  \n",
       "651           0         0         0  \n",
       "662           0         0         0  \n",
       "663           0         0         0  \n",
       "840           1         0         1  "
      ]
     },
     "execution_count": 183,
     "metadata": {},
     "output_type": "execute_result"
    }
   ],
   "source": [
    "df[(df.isna().sum(1)>2)]               #LAS FILAS CON 3 NAN VALUES SERAN ELIMINADAS"
   ]
  },
  {
   "attachments": {},
   "cell_type": "markdown",
   "metadata": {},
   "source": [
    "## DATA CLEANING"
   ]
  },
  {
   "cell_type": "code",
   "execution_count": 184,
   "metadata": {},
   "outputs": [],
   "source": [
    "df_copy = df.copy()"
   ]
  },
  {
   "cell_type": "code",
   "execution_count": 185,
   "metadata": {},
   "outputs": [],
   "source": [
    "#ELIMINACIONDE DATOS\n",
    "\n",
    "df_copy_1 = df_copy[~(df_copy.isna().sum(1)>2)]\n",
    "df_copy_1 = df_copy_1[df_copy_1['vedadc_n']>=18]\n",
    "df_copy_1.drop_duplicates(inplace=True)\n",
    "df_copy_1.drop(columns=['vccdeu_n.1'], inplace=True)"
   ]
  },
  {
   "cell_type": "code",
   "execution_count": 186,
   "metadata": {},
   "outputs": [
    {
     "data": {
      "text/plain": [
       "array([60., 66., 53., 50., 54., 62., 80., 63., 39., 59., 41., 64., 91.,\n",
       "       33., 55., 34., 74., 48., 36., 67., 38., 71., 42., 45., 51., 22.,\n",
       "       69., 65., 32., 43., 56., 72., 49., 46., 57., 47., 52., 44., 30.,\n",
       "       40., 61., 70., 37., 35., 29., 19., 21., 58., 77., 83., 28., 18.,\n",
       "       76., 75., 82., 79., 86., 25., 68., 78., 73., 92., 90., 85., 26.,\n",
       "       81., 24., 31., 20., 23., 27.])"
      ]
     },
     "execution_count": 186,
     "metadata": {},
     "output_type": "execute_result"
    }
   ],
   "source": [
    "#CAMBIO DE OUTLIERS EN LA EDAD DE 116 Y 117 AÑOS\n",
    "\n",
    "median_age = df_copy_1[df_copy_1['vedadc_n']<100]['vedadc_n'].median()\n",
    "df_copy_1['vedadc_n'] = df_copy_1['vedadc_n'].replace([116.0, 117.0], median_age)\n",
    "\n",
    "df_copy_1['vedadc_n'].unique()"
   ]
  },
  {
   "cell_type": "code",
   "execution_count": 187,
   "metadata": {},
   "outputs": [
    {
     "data": {
      "text/html": [
       "<div>\n",
       "<style scoped>\n",
       "    .dataframe tbody tr th:only-of-type {\n",
       "        vertical-align: middle;\n",
       "    }\n",
       "\n",
       "    .dataframe tbody tr th {\n",
       "        vertical-align: top;\n",
       "    }\n",
       "\n",
       "    .dataframe thead th {\n",
       "        text-align: right;\n",
       "    }\n",
       "</style>\n",
       "<table border=\"1\" class=\"dataframe\">\n",
       "  <thead>\n",
       "    <tr style=\"text-align: right;\">\n",
       "      <th></th>\n",
       "      <th>vedadc_n</th>\n",
       "      <th>vantig_n</th>\n",
       "      <th>vnline_n</th>\n",
       "      <th>vgamma_c</th>\n",
       "      <th>veaseg_c</th>\n",
       "      <th>vctcpl_n</th>\n",
       "      <th>vccdeu_n</th>\n",
       "      <th>ttkbco_n</th>\n",
       "      <th>vtarge_c</th>\n",
       "    </tr>\n",
       "  </thead>\n",
       "  <tbody>\n",
       "    <tr>\n",
       "      <th>0</th>\n",
       "      <td>60.0</td>\n",
       "      <td>NaN</td>\n",
       "      <td>1</td>\n",
       "      <td>PREMIUM PLUS</td>\n",
       "      <td>0</td>\n",
       "      <td>45</td>\n",
       "      <td>1</td>\n",
       "      <td>2439779</td>\n",
       "      <td>0</td>\n",
       "    </tr>\n",
       "    <tr>\n",
       "      <th>1</th>\n",
       "      <td>66.0</td>\n",
       "      <td>NaN</td>\n",
       "      <td>1</td>\n",
       "      <td>ALTA</td>\n",
       "      <td>0</td>\n",
       "      <td>71</td>\n",
       "      <td>8</td>\n",
       "      <td>0</td>\n",
       "      <td>0</td>\n",
       "    </tr>\n",
       "    <tr>\n",
       "      <th>3</th>\n",
       "      <td>53.0</td>\n",
       "      <td>NaN</td>\n",
       "      <td>2</td>\n",
       "      <td>NaN</td>\n",
       "      <td>0</td>\n",
       "      <td>7</td>\n",
       "      <td>0</td>\n",
       "      <td>0</td>\n",
       "      <td>0</td>\n",
       "    </tr>\n",
       "    <tr>\n",
       "      <th>4</th>\n",
       "      <td>50.0</td>\n",
       "      <td>NaN</td>\n",
       "      <td>3</td>\n",
       "      <td>ALTA</td>\n",
       "      <td>0</td>\n",
       "      <td>42</td>\n",
       "      <td>7</td>\n",
       "      <td>1969990</td>\n",
       "      <td>0</td>\n",
       "    </tr>\n",
       "    <tr>\n",
       "      <th>5</th>\n",
       "      <td>54.0</td>\n",
       "      <td>NaN</td>\n",
       "      <td>2</td>\n",
       "      <td>PREMIUM PLUS</td>\n",
       "      <td>0</td>\n",
       "      <td>27</td>\n",
       "      <td>0</td>\n",
       "      <td>0</td>\n",
       "      <td>0</td>\n",
       "    </tr>\n",
       "  </tbody>\n",
       "</table>\n",
       "</div>"
      ],
      "text/plain": [
       "   vedadc_n  vantig_n  vnline_n      vgamma_c  veaseg_c  vctcpl_n  vccdeu_n  \\\n",
       "0      60.0       NaN         1  PREMIUM PLUS         0        45         1   \n",
       "1      66.0       NaN         1          ALTA         0        71         8   \n",
       "3      53.0       NaN         2           NaN         0         7         0   \n",
       "4      50.0       NaN         3          ALTA         0        42         7   \n",
       "5      54.0       NaN         2  PREMIUM PLUS         0        27         0   \n",
       "\n",
       "   ttkbco_n  vtarge_c  \n",
       "0   2439779         0  \n",
       "1         0         0  \n",
       "3         0         0  \n",
       "4   1969990         0  \n",
       "5         0         0  "
      ]
     },
     "execution_count": 187,
     "metadata": {},
     "output_type": "execute_result"
    }
   ],
   "source": [
    "#CAMBIO DE VALORES DE LA COLUMNA VEASEG\n",
    "\n",
    "df_copy_1['veaseg_c'] = df_copy_1['veaseg_c'].replace(['n','s'],[0,1])\n",
    "\n",
    "df_copy_1.head()"
   ]
  },
  {
   "cell_type": "code",
   "execution_count": 188,
   "metadata": {},
   "outputs": [
    {
     "data": {
      "text/plain": [
       "array(['PREMIUM PLUS', 'ALTA', nan, 'PREMIUM', 'MEDIA', 'BAJA'],\n",
       "      dtype=object)"
      ]
     },
     "execution_count": 188,
     "metadata": {},
     "output_type": "execute_result"
    }
   ],
   "source": [
    "#CAMBIANDO LOS VALORES DE VGAMMA_C\n",
    "\n",
    "df_copy_1['vgamma_c'] = df_copy_1['vgamma_c'].replace(['PREMIUN PLUS', 'PRIMIUM PLUS'], 'PREMIUM PLUS')\n",
    "df_copy_1['vgamma_c'] = df_copy_1['vgamma_c'].replace(['ALTAa'], 'ALTA')\n",
    "\n",
    "df_copy_1['vgamma_c'].unique()"
   ]
  },
  {
   "cell_type": "code",
   "execution_count": 249,
   "metadata": {},
   "outputs": [
    {
     "data": {
      "text/html": [
       "<div>\n",
       "<style scoped>\n",
       "    .dataframe tbody tr th:only-of-type {\n",
       "        vertical-align: middle;\n",
       "    }\n",
       "\n",
       "    .dataframe tbody tr th {\n",
       "        vertical-align: top;\n",
       "    }\n",
       "\n",
       "    .dataframe thead th {\n",
       "        text-align: right;\n",
       "    }\n",
       "</style>\n",
       "<table border=\"1\" class=\"dataframe\">\n",
       "  <thead>\n",
       "    <tr style=\"text-align: right;\">\n",
       "      <th></th>\n",
       "      <th>vedadc_n</th>\n",
       "      <th>vantig_n</th>\n",
       "      <th>vnline_n</th>\n",
       "      <th>vgamma_c</th>\n",
       "      <th>veaseg_c</th>\n",
       "      <th>vctcpl_n</th>\n",
       "      <th>vccdeu_n</th>\n",
       "      <th>ttkbco_n</th>\n",
       "      <th>vtarge_c</th>\n",
       "    </tr>\n",
       "  </thead>\n",
       "  <tbody>\n",
       "    <tr>\n",
       "      <th>0</th>\n",
       "      <td>60.0</td>\n",
       "      <td>NaN</td>\n",
       "      <td>1</td>\n",
       "      <td>PREMIUM PLUS</td>\n",
       "      <td>0</td>\n",
       "      <td>45</td>\n",
       "      <td>1</td>\n",
       "      <td>2439779</td>\n",
       "      <td>0</td>\n",
       "    </tr>\n",
       "    <tr>\n",
       "      <th>1</th>\n",
       "      <td>66.0</td>\n",
       "      <td>NaN</td>\n",
       "      <td>1</td>\n",
       "      <td>ALTA</td>\n",
       "      <td>0</td>\n",
       "      <td>71</td>\n",
       "      <td>8</td>\n",
       "      <td>0</td>\n",
       "      <td>0</td>\n",
       "    </tr>\n",
       "    <tr>\n",
       "      <th>3</th>\n",
       "      <td>53.0</td>\n",
       "      <td>NaN</td>\n",
       "      <td>2</td>\n",
       "      <td>NaN</td>\n",
       "      <td>0</td>\n",
       "      <td>7</td>\n",
       "      <td>0</td>\n",
       "      <td>0</td>\n",
       "      <td>0</td>\n",
       "    </tr>\n",
       "    <tr>\n",
       "      <th>4</th>\n",
       "      <td>50.0</td>\n",
       "      <td>NaN</td>\n",
       "      <td>3</td>\n",
       "      <td>ALTA</td>\n",
       "      <td>0</td>\n",
       "      <td>42</td>\n",
       "      <td>7</td>\n",
       "      <td>1969990</td>\n",
       "      <td>0</td>\n",
       "    </tr>\n",
       "    <tr>\n",
       "      <th>5</th>\n",
       "      <td>54.0</td>\n",
       "      <td>NaN</td>\n",
       "      <td>2</td>\n",
       "      <td>PREMIUM PLUS</td>\n",
       "      <td>0</td>\n",
       "      <td>27</td>\n",
       "      <td>0</td>\n",
       "      <td>0</td>\n",
       "      <td>0</td>\n",
       "    </tr>\n",
       "    <tr>\n",
       "      <th>6</th>\n",
       "      <td>62.0</td>\n",
       "      <td>NaN</td>\n",
       "      <td>4</td>\n",
       "      <td>NaN</td>\n",
       "      <td>0</td>\n",
       "      <td>40</td>\n",
       "      <td>8</td>\n",
       "      <td>0</td>\n",
       "      <td>0</td>\n",
       "    </tr>\n",
       "    <tr>\n",
       "      <th>7</th>\n",
       "      <td>50.0</td>\n",
       "      <td>66.0</td>\n",
       "      <td>2</td>\n",
       "      <td>PREMIUM PLUS</td>\n",
       "      <td>1</td>\n",
       "      <td>38</td>\n",
       "      <td>11</td>\n",
       "      <td>1653464</td>\n",
       "      <td>0</td>\n",
       "    </tr>\n",
       "    <tr>\n",
       "      <th>8</th>\n",
       "      <td>60.0</td>\n",
       "      <td>NaN</td>\n",
       "      <td>2</td>\n",
       "      <td>PREMIUM</td>\n",
       "      <td>0</td>\n",
       "      <td>24</td>\n",
       "      <td>2</td>\n",
       "      <td>0</td>\n",
       "      <td>0</td>\n",
       "    </tr>\n",
       "    <tr>\n",
       "      <th>13</th>\n",
       "      <td>80.0</td>\n",
       "      <td>NaN</td>\n",
       "      <td>4</td>\n",
       "      <td>PREMIUM PLUS</td>\n",
       "      <td>0</td>\n",
       "      <td>6</td>\n",
       "      <td>0</td>\n",
       "      <td>95899</td>\n",
       "      <td>0</td>\n",
       "    </tr>\n",
       "    <tr>\n",
       "      <th>14</th>\n",
       "      <td>63.0</td>\n",
       "      <td>NaN</td>\n",
       "      <td>6</td>\n",
       "      <td>PREMIUM PLUS</td>\n",
       "      <td>0</td>\n",
       "      <td>14</td>\n",
       "      <td>0</td>\n",
       "      <td>0</td>\n",
       "      <td>0</td>\n",
       "    </tr>\n",
       "  </tbody>\n",
       "</table>\n",
       "</div>"
      ],
      "text/plain": [
       "    vedadc_n  vantig_n  vnline_n      vgamma_c  veaseg_c  vctcpl_n  vccdeu_n  \\\n",
       "0       60.0       NaN         1  PREMIUM PLUS         0        45         1   \n",
       "1       66.0       NaN         1          ALTA         0        71         8   \n",
       "3       53.0       NaN         2           NaN         0         7         0   \n",
       "4       50.0       NaN         3          ALTA         0        42         7   \n",
       "5       54.0       NaN         2  PREMIUM PLUS         0        27         0   \n",
       "6       62.0       NaN         4           NaN         0        40         8   \n",
       "7       50.0      66.0         2  PREMIUM PLUS         1        38        11   \n",
       "8       60.0       NaN         2       PREMIUM         0        24         2   \n",
       "13      80.0       NaN         4  PREMIUM PLUS         0         6         0   \n",
       "14      63.0       NaN         6  PREMIUM PLUS         0        14         0   \n",
       "\n",
       "    ttkbco_n  vtarge_c  \n",
       "0    2439779         0  \n",
       "1          0         0  \n",
       "3          0         0  \n",
       "4    1969990         0  \n",
       "5          0         0  \n",
       "6          0         0  \n",
       "7    1653464         0  \n",
       "8          0         0  \n",
       "13     95899         0  \n",
       "14         0         0  "
      ]
     },
     "execution_count": 249,
     "metadata": {},
     "output_type": "execute_result"
    }
   ],
   "source": [
    "df_copy_1.head(10)"
   ]
  },
  {
   "attachments": {},
   "cell_type": "markdown",
   "metadata": {},
   "source": [
    "## EDA"
   ]
  },
  {
   "cell_type": "code",
   "execution_count": 190,
   "metadata": {},
   "outputs": [],
   "source": [
    "import seaborn as sns\n",
    "import matplotlib.pyplot as plt"
   ]
  },
  {
   "cell_type": "code",
   "execution_count": 191,
   "metadata": {},
   "outputs": [
    {
     "data": {
      "image/png": "[encoded data removed]",
      "text/plain": [
       "<Figure size 500x500 with 1 Axes>"
      ]
     },
     "metadata": {},
     "output_type": "display_data"
    }
   ],
   "source": [
    "sns.displot(data=df_copy_1, x='vedadc_n')\n",
    "plt.show()"
   ]
  },
  {
   "cell_type": "code",
   "execution_count": 192,
   "metadata": {},
   "outputs": [
    {
     "data": {
      "image/png": "[encoded data removed]",
      "text/plain": [
       "<Figure size 500x500 with 1 Axes>"
      ]
     },
     "metadata": {},
     "output_type": "display_data"
    }
   ],
   "source": [
    "sns.displot(data=df_copy_1, x='vantig_n')\n",
    "plt.show()"
   ]
  },
  {
   "cell_type": "code",
   "execution_count": 193,
   "metadata": {},
   "outputs": [
    {
     "data": {
      "image/png": "[encoded data removed]",
      "text/plain": [
       "<Figure size 500x500 with 1 Axes>"
      ]
     },
     "metadata": {},
     "output_type": "display_data"
    }
   ],
   "source": [
    "sns.displot(data=df_copy_1, x='vnline_n')\n",
    "plt.show()"
   ]
  },
  {
   "cell_type": "code",
   "execution_count": 194,
   "metadata": {},
   "outputs": [
    {
     "data": {
      "image/png": "[encoded data removed]",
      "text/plain": [
       "<Figure size 500x500 with 1 Axes>"
      ]
     },
     "metadata": {},
     "output_type": "display_data"
    }
   ],
   "source": [
    "sns.displot(data=df_copy_1, x='vgamma_c')\n",
    "plt.show()"
   ]
  },
  {
   "cell_type": "code",
   "execution_count": 195,
   "metadata": {},
   "outputs": [
    {
     "data": {
      "image/png": "[encoded data removed]",
      "text/plain": [
       "<Figure size 640x480 with 1 Axes>"
      ]
     },
     "metadata": {},
     "output_type": "display_data"
    }
   ],
   "source": [
    "sns.countplot(data=df_copy_1, x='veaseg_c')\n",
    "plt.show()"
   ]
  },
  {
   "cell_type": "code",
   "execution_count": 196,
   "metadata": {},
   "outputs": [
    {
     "data": {
      "image/png": "[encoded data removed]",
      "text/plain": [
       "<Figure size 500x500 with 1 Axes>"
      ]
     },
     "metadata": {},
     "output_type": "display_data"
    }
   ],
   "source": [
    "sns.displot(data=df_copy_1, x='vctcpl_n')\n",
    "plt.show()"
   ]
  },
  {
   "cell_type": "code",
   "execution_count": 197,
   "metadata": {},
   "outputs": [
    {
     "data": {
      "image/png": "[encoded data removed]",
      "text/plain": [
       "<Figure size 500x500 with 1 Axes>"
      ]
     },
     "metadata": {},
     "output_type": "display_data"
    }
   ],
   "source": [
    "sns.displot(data=df_copy_1, x='vccdeu_n')\n",
    "plt.show()"
   ]
  },
  {
   "cell_type": "code",
   "execution_count": 198,
   "metadata": {},
   "outputs": [
    {
     "data": {
      "image/png": "[encoded data removed]",
      "text/plain": [
       "<Figure size 640x480 with 1 Axes>"
      ]
     },
     "metadata": {},
     "output_type": "display_data"
    }
   ],
   "source": [
    "sns.countplot(data=df_copy_1, x='vtarge_c')\n",
    "plt.show()"
   ]
  },
  {
   "attachments": {},
   "cell_type": "markdown",
   "metadata": {},
   "source": [
    "## FEATURE TRANSFORMATION"
   ]
  },
  {
   "cell_type": "code",
   "execution_count": 206,
   "metadata": {},
   "outputs": [],
   "source": [
    "from sklearn.compose import ColumnTransformer\n",
    "from sklearn.preprocessing import OneHotEncoder\n",
    "from sklearn.experimental import enable_iterative_imputer\n",
    "from sklearn.impute import SimpleImputer\n",
    "from sklearn.model_selection import train_test_split\n",
    "import numpy as np\n",
    "from sklearn.pipeline import Pipeline, make_pipeline"
   ]
  },
  {
   "cell_type": "code",
   "execution_count": 207,
   "metadata": {},
   "outputs": [],
   "source": [
    "x = df_copy_1.drop(columns=[\"vtarge_c\"])\n",
    "y = df_copy_1['vtarge_c']"
   ]
  },
  {
   "cell_type": "code",
   "execution_count": 208,
   "metadata": {},
   "outputs": [],
   "source": [
    "x_train, x_test, y_train, y_test = train_test_split(x,y,test_size=0.2,random_state=20)"
   ]
  },
  {
   "cell_type": "code",
   "execution_count": 209,
   "metadata": {},
   "outputs": [],
   "source": [
    "step1 = ColumnTransformer([\n",
    "        ('step1', make_pipeline(\n",
    "            SimpleImputer(strategy='most_frequent', missing_values=np.nan),\n",
    "            OneHotEncoder()\n",
    "        ), [\"vgamma_c\"]),\n",
    "        ('step2',SimpleImputer(strategy='median', missing_values=np.nan),[\"vantig_n\"])\n",
    "    ], remainder='passthrough')\n",
    "\n",
    "#dataset = pd.DataFrame(step1.fit_transform(x_train), columns=step1.get_feature_names_out())\n",
    "#dataset.head()"
   ]
  },
  {
   "attachments": {},
   "cell_type": "markdown",
   "metadata": {},
   "source": [
    "## ML MODELS"
   ]
  },
  {
   "attachments": {},
   "cell_type": "markdown",
   "metadata": {},
   "source": [
    "### LOGISTIC REGRESSION"
   ]
  },
  {
   "cell_type": "code",
   "execution_count": 237,
   "metadata": {},
   "outputs": [],
   "source": [
    "from sklearn.linear_model import LogisticRegression\n",
    "from sklearn.metrics import accuracy_score, confusion_matrix, classification_report"
   ]
  },
  {
   "cell_type": "code",
   "execution_count": 238,
   "metadata": {},
   "outputs": [
    {
     "name": "stdout",
     "output_type": "stream",
     "text": [
      "Acc: 77.62 %\n"
     ]
    }
   ],
   "source": [
    "lr = LogisticRegression()\n",
    "pipe_lr = Pipeline([\n",
    "    (\"step1\", step1),\n",
    "    (\"model\", lr)\n",
    "])\n",
    "\n",
    "pipe_lr.fit(x_train, y_train)\n",
    "pipe_lr_predict = pipe_lr.predict(x_test)\n",
    "\n",
    "print(f\"Acc: {round(accuracy_score(y_test, pipe_lr_predict)*100,2)} %\")"
   ]
  },
  {
   "cell_type": "code",
   "execution_count": 239,
   "metadata": {},
   "outputs": [
    {
     "name": "stdout",
     "output_type": "stream",
     "text": [
      "              precision    recall  f1-score   support\n",
      "\n",
      "           0       0.78      1.00      0.87       111\n",
      "           1       0.00      0.00      0.00        32\n",
      "\n",
      "    accuracy                           0.78       143\n",
      "   macro avg       0.39      0.50      0.44       143\n",
      "weighted avg       0.60      0.78      0.68       143\n",
      "\n"
     ]
    },
    {
     "name": "stderr",
     "output_type": "stream",
     "text": [
      "d:\\AnalisisDatos\\Portfolio\\Churn-Guatemala\\env\\lib\\site-packages\\sklearn\\metrics\\_classification.py:1344: UndefinedMetricWarning: Precision and F-score are ill-defined and being set to 0.0 in labels with no predicted samples. Use `zero_division` parameter to control this behavior.\n",
      "  _warn_prf(average, modifier, msg_start, len(result))\n",
      "d:\\AnalisisDatos\\Portfolio\\Churn-Guatemala\\env\\lib\\site-packages\\sklearn\\metrics\\_classification.py:1344: UndefinedMetricWarning: Precision and F-score are ill-defined and being set to 0.0 in labels with no predicted samples. Use `zero_division` parameter to control this behavior.\n",
      "  _warn_prf(average, modifier, msg_start, len(result))\n",
      "d:\\AnalisisDatos\\Portfolio\\Churn-Guatemala\\env\\lib\\site-packages\\sklearn\\metrics\\_classification.py:1344: UndefinedMetricWarning: Precision and F-score are ill-defined and being set to 0.0 in labels with no predicted samples. Use `zero_division` parameter to control this behavior.\n",
      "  _warn_prf(average, modifier, msg_start, len(result))\n"
     ]
    }
   ],
   "source": [
    "print(classification_report(y_test, pipe_lr_predict))"
   ]
  },
  {
   "cell_type": "code",
   "execution_count": 240,
   "metadata": {},
   "outputs": [
    {
     "name": "stdout",
     "output_type": "stream",
     "text": [
      "[[111   0]\n",
      " [ 32   0]]\n"
     ]
    }
   ],
   "source": [
    "print(confusion_matrix(y_test, pipe_lr_predict))"
   ]
  },
  {
   "attachments": {},
   "cell_type": "markdown",
   "metadata": {},
   "source": [
    "### RANDOM FOREST"
   ]
  },
  {
   "cell_type": "code",
   "execution_count": 241,
   "metadata": {},
   "outputs": [],
   "source": [
    "from sklearn.ensemble import RandomForestClassifier"
   ]
  },
  {
   "cell_type": "code",
   "execution_count": 242,
   "metadata": {},
   "outputs": [
    {
     "name": "stdout",
     "output_type": "stream",
     "text": [
      "Acc: 88.81 %\n"
     ]
    }
   ],
   "source": [
    "rf = RandomForestClassifier()\n",
    "\n",
    "pipe_rf = Pipeline([\n",
    "    (\"step1\", step1),\n",
    "    (\"model\", rf)\n",
    "])\n",
    "\n",
    "pipe_rf.fit(x_train, y_train)\n",
    "pipe_rf_predict = pipe_rf.predict(x_test)\n",
    "\n",
    "print(f\"Acc: {round(accuracy_score(y_test, pipe_rf_predict)*100,2)} %\")"
   ]
  },
  {
   "cell_type": "code",
   "execution_count": 243,
   "metadata": {},
   "outputs": [
    {
     "name": "stdout",
     "output_type": "stream",
     "text": [
      "              precision    recall  f1-score   support\n",
      "\n",
      "           0       0.90      0.96      0.93       111\n",
      "           1       0.83      0.62      0.71        32\n",
      "\n",
      "    accuracy                           0.89       143\n",
      "   macro avg       0.87      0.79      0.82       143\n",
      "weighted avg       0.88      0.89      0.88       143\n",
      "\n"
     ]
    }
   ],
   "source": [
    "print(classification_report(y_test, pipe_rf_predict))"
   ]
  },
  {
   "cell_type": "code",
   "execution_count": 244,
   "metadata": {},
   "outputs": [
    {
     "name": "stdout",
     "output_type": "stream",
     "text": [
      "[[107   4]\n",
      " [ 12  20]]\n"
     ]
    }
   ],
   "source": [
    "print(confusion_matrix(y_test, pipe_rf_predict))"
   ]
  },
  {
   "attachments": {},
   "cell_type": "markdown",
   "metadata": {},
   "source": [
    "### XGBOOST"
   ]
  },
  {
   "cell_type": "code",
   "execution_count": 245,
   "metadata": {},
   "outputs": [],
   "source": [
    "from xgboost import XGBClassifier"
   ]
  },
  {
   "cell_type": "code",
   "execution_count": 246,
   "metadata": {},
   "outputs": [
    {
     "name": "stdout",
     "output_type": "stream",
     "text": [
      "Acc: 88.81 %\n"
     ]
    }
   ],
   "source": [
    "xg = XGBClassifier(n_estimators=100, max_depth=6, learning_rate=0.1, objective='binary:logistic')\n",
    "\n",
    "pipe_xg = Pipeline([\n",
    "    (\"step1\", step1),\n",
    "    (\"model\", xg)\n",
    "])\n",
    "\n",
    "pipe_xg.fit(x_train, y_train)\n",
    "pipe_xg_predict = pipe_xg.predict(x_test)\n",
    "\n",
    "print(f\"Acc: {round(accuracy_score(y_test, pipe_xg_predict)*100,2)} %\")"
   ]
  },
  {
   "cell_type": "code",
   "execution_count": 247,
   "metadata": {},
   "outputs": [
    {
     "name": "stdout",
     "output_type": "stream",
     "text": [
      "              precision    recall  f1-score   support\n",
      "\n",
      "           0       0.91      0.95      0.93       111\n",
      "           1       0.79      0.69      0.73        32\n",
      "\n",
      "    accuracy                           0.89       143\n",
      "   macro avg       0.85      0.82      0.83       143\n",
      "weighted avg       0.88      0.89      0.89       143\n",
      "\n"
     ]
    }
   ],
   "source": [
    "print(classification_report(y_test, pipe_xg_predict))"
   ]
  },
  {
   "cell_type": "code",
   "execution_count": 248,
   "metadata": {},
   "outputs": [
    {
     "name": "stdout",
     "output_type": "stream",
     "text": [
      "[[105   6]\n",
      " [ 10  22]]\n"
     ]
    }
   ],
   "source": [
    "print(confusion_matrix(y_test, pipe_xg_predict))"
   ]
  },
  {
   "attachments": {},
   "cell_type": "markdown",
   "metadata": {},
   "source": [
    "### CONCLUSION"
   ]
  },
  {
   "attachments": {},
   "cell_type": "markdown",
   "metadata": {},
   "source": [
    "- In a few words, each one ML model presents similar good metrics in \"0\" classification, on the other hand, metrics in \"1\" classification are not acceptable.\n",
    "- My hypothesis about garbage metrics is the unbalanced samples values on target feature, 0 classification's metrics has better results because it has more samples and on the other hand, 1 classification's metrics has worst results because it has less samples"
   ]
  },
  {
   "attachments": {},
   "cell_type": "markdown",
   "metadata": {},
   "source": [
    "## OVERSAMPLING"
   ]
  },
  {
   "cell_type": "code",
   "execution_count": 222,
   "metadata": {},
   "outputs": [],
   "source": [
    "from imblearn.combine import SMOTEENN\n",
    "from imblearn.pipeline import Pipeline as imbpipeline"
   ]
  },
  {
   "cell_type": "code",
   "execution_count": 223,
   "metadata": {},
   "outputs": [],
   "source": [
    "sm = SMOTEENN(random_state=42)"
   ]
  },
  {
   "attachments": {},
   "cell_type": "markdown",
   "metadata": {},
   "source": [
    "### LOGISTIC REGRESSION"
   ]
  },
  {
   "cell_type": "code",
   "execution_count": 231,
   "metadata": {},
   "outputs": [
    {
     "name": "stdout",
     "output_type": "stream",
     "text": [
      "Acc: 84.62 %\n"
     ]
    },
    {
     "name": "stderr",
     "output_type": "stream",
     "text": [
      "d:\\AnalisisDatos\\Portfolio\\Churn-Guatemala\\env\\lib\\site-packages\\sklearn\\linear_model\\_logistic.py:458: ConvergenceWarning: lbfgs failed to converge (status=1):\n",
      "STOP: TOTAL NO. of ITERATIONS REACHED LIMIT.\n",
      "\n",
      "Increase the number of iterations (max_iter) or scale the data as shown in:\n",
      "    https://scikit-learn.org/stable/modules/preprocessing.html\n",
      "Please also refer to the documentation for alternative solver options:\n",
      "    https://scikit-learn.org/stable/modules/linear_model.html#logistic-regression\n",
      "  n_iter_i = _check_optimize_result(\n"
     ]
    }
   ],
   "source": [
    "lr_res = LogisticRegression()\n",
    "pipe_lr_res = imbpipeline([\n",
    "    (\"step1\", step1),\n",
    "    (\"step2\", sm),\n",
    "    (\"model\", lr_res)\n",
    "])\n",
    "\n",
    "pipe_lr_res.fit(x_train, y_train)\n",
    "pipe_lr_res_predict = pipe_lr_res.predict(x_test)\n",
    "\n",
    "print(f\"Acc: {round(accuracy_score(y_test, pipe_lr_res_predict)*100,2)} %\")"
   ]
  },
  {
   "cell_type": "code",
   "execution_count": 232,
   "metadata": {},
   "outputs": [
    {
     "name": "stdout",
     "output_type": "stream",
     "text": [
      "              precision    recall  f1-score   support\n",
      "\n",
      "           0       0.95      0.85      0.90       111\n",
      "           1       0.61      0.84      0.71        32\n",
      "\n",
      "    accuracy                           0.85       143\n",
      "   macro avg       0.78      0.85      0.80       143\n",
      "weighted avg       0.87      0.85      0.85       143\n",
      "\n"
     ]
    }
   ],
   "source": [
    "print(classification_report(y_test, pipe_lr_res_predict))"
   ]
  },
  {
   "attachments": {},
   "cell_type": "markdown",
   "metadata": {},
   "source": [
    "### RANDOM FOREST"
   ]
  },
  {
   "cell_type": "code",
   "execution_count": 233,
   "metadata": {},
   "outputs": [
    {
     "name": "stdout",
     "output_type": "stream",
     "text": [
      "Acc: 86.01 %\n"
     ]
    }
   ],
   "source": [
    "rf_res = RandomForestClassifier()\n",
    "\n",
    "pipe_rf_res = imbpipeline([\n",
    "    (\"step1\", step1),\n",
    "    ('step2', sm),\n",
    "    (\"model\", rf_res)\n",
    "])\n",
    "\n",
    "pipe_rf_res.fit(x_train, y_train)\n",
    "pipe_rf_res_predict = pipe_rf_res.predict(x_test)\n",
    "\n",
    "print(f\"Acc: {round(accuracy_score(y_test, pipe_rf_res_predict)*100,2)} %\")"
   ]
  },
  {
   "cell_type": "code",
   "execution_count": 234,
   "metadata": {},
   "outputs": [
    {
     "name": "stdout",
     "output_type": "stream",
     "text": [
      "              precision    recall  f1-score   support\n",
      "\n",
      "           0       0.95      0.86      0.91       111\n",
      "           1       0.64      0.84      0.73        32\n",
      "\n",
      "    accuracy                           0.86       143\n",
      "   macro avg       0.80      0.85      0.82       143\n",
      "weighted avg       0.88      0.86      0.87       143\n",
      "\n"
     ]
    }
   ],
   "source": [
    "print(classification_report(y_test, pipe_rf_res_predict))"
   ]
  },
  {
   "attachments": {},
   "cell_type": "markdown",
   "metadata": {},
   "source": [
    "### XGBOOST"
   ]
  },
  {
   "cell_type": "code",
   "execution_count": 235,
   "metadata": {},
   "outputs": [
    {
     "name": "stdout",
     "output_type": "stream",
     "text": [
      "Acc: 88.11 %\n"
     ]
    }
   ],
   "source": [
    "xg_res = XGBClassifier(n_estimators=100, max_depth=6, learning_rate=0.1, objective='binary:logistic')\n",
    "\n",
    "pipe_xg_res = imbpipeline([\n",
    "    (\"step1\", step1),\n",
    "    ('step2', sm),\n",
    "    (\"model\", xg_res)\n",
    "])\n",
    "\n",
    "pipe_xg_res.fit(x_train, y_train)\n",
    "pipe_xg_res_predict = pipe_xg_res.predict(x_test)\n",
    "\n",
    "print(f\"Acc: {round(accuracy_score(y_test, pipe_xg_res_predict)*100,2)} %\")"
   ]
  },
  {
   "cell_type": "code",
   "execution_count": 236,
   "metadata": {},
   "outputs": [
    {
     "name": "stdout",
     "output_type": "stream",
     "text": [
      "              precision    recall  f1-score   support\n",
      "\n",
      "           0       0.96      0.88      0.92       111\n",
      "           1       0.68      0.88      0.77        32\n",
      "\n",
      "    accuracy                           0.88       143\n",
      "   macro avg       0.82      0.88      0.84       143\n",
      "weighted avg       0.90      0.88      0.89       143\n",
      "\n"
     ]
    }
   ],
   "source": [
    "print(classification_report(y_test, pipe_xg_predict))"
   ]
  },
  {
   "attachments": {},
   "cell_type": "markdown",
   "metadata": {},
   "source": [
    "### CONCLUSION"
   ]
  },
  {
   "attachments": {},
   "cell_type": "markdown",
   "metadata": {},
   "source": [
    "- Even if we use over-sampling, metrics results seem equals and thus, we will choose XGBOOST without over-sampling technique as ML model\n",
    "- For a better results, we need more data with target values as \"1\""
   ]
  },
  {
   "attachments": {},
   "cell_type": "markdown",
   "metadata": {},
   "source": [
    "## EXPORTATION MODEL"
   ]
  },
  {
   "cell_type": "code",
   "execution_count": 230,
   "metadata": {},
   "outputs": [],
   "source": [
    "import pickle"
   ]
  },
  {
   "cell_type": "code",
   "execution_count": 253,
   "metadata": {},
   "outputs": [
    {
     "data": {
      "text/plain": [
       "array([0])"
      ]
     },
     "execution_count": 253,
     "metadata": {},
     "output_type": "execute_result"
    }
   ],
   "source": [
    "#TESTING ML MODEL BEFORE EXPORTATION\n",
    "\n",
    "df_temp = pd.DataFrame({\n",
    "    \"vedadc_n\": 50.0,\n",
    "    \"vantig_n\": 66.0,\n",
    "    \"vnline_n\": 2,\n",
    "    \"vgamma_c\": \"PREMIUM PLUS\",\n",
    "    \"veaseg_c\": 1,\n",
    "    \"vctcpl_n\":38,\n",
    "    \"vccdeu_n\": 11,\n",
    "    \"ttkbco_n\": 1653464\n",
    "}, index=[0])\n",
    "\n",
    "pipe_xg.predict(df_temp)            #RETURN A GOOD RESULT AND ALSO WITH A CORRECT IMPUT STRUCTURE"
   ]
  },
  {
   "cell_type": "code",
   "execution_count": 254,
   "metadata": {},
   "outputs": [],
   "source": [
    "pickle.dump(pipe_xg,open('../ml_model/model.pkl','wb'))"
   ]
  }
 ],
 "metadata": {
  "kernelspec": {
   "display_name": "env",
   "language": "python",
   "name": "python3"
  },
  "language_info": {
   "codemirror_mode": {
    "name": "ipython",
    "version": 3
   },
   "file_extension": ".py",
   "mimetype": "text/x-python",
   "name": "python",
   "nbconvert_exporter": "python",
   "pygments_lexer": "ipython3",
   "version": "3.9.11"
  },
  "orig_nbformat": 4,
  "vscode": {
   "interpreter": {
    "hash": "8600f0ccac6d49fdcedd487053ed12d23a9c6e32af2db711b7e11fecc13d7976"
   }
  }
 },
 "nbformat": 4,
 "nbformat_minor": 2
}
